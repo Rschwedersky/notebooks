{
 "cells": [
  {
   "cell_type": "code",
   "execution_count": 4,
   "id": "9a18741e",
   "metadata": {},
   "outputs": [],
   "source": [
    "import os\n",
    "from PIL import Image\n",
    "import cv2"
   ]
  },
  {
   "cell_type": "code",
   "execution_count": 5,
   "id": "e3901776",
   "metadata": {},
   "outputs": [],
   "source": [
    "video_dir = os.path.join('../cogum_images/video')\n"
   ]
  },
  {
   "cell_type": "code",
   "execution_count": 6,
   "id": "84e340ba",
   "metadata": {},
   "outputs": [
    {
     "name": "stderr",
     "output_type": "stream",
     "text": [
      "'touch' is not recognized as an internal or external command,\n",
      "operable program or batch file.\n"
     ]
    }
   ],
   "source": [
    "def create_video_from_images(folder):\n",
    "    \"\"\"Generate a video from all images in the specified folder.\"\"\"\n",
    "    video_filename = '../cogum_images/video/created_video.mp4'\n",
    "    valid_images = [i for i in os.listdir(folder) if i.endswith((\".jpg\", \".jpeg\", \".png\"))]\n",
    "\n",
    "    first_image = cv2.imread(os.path.join(folder, valid_images[0]))\n",
    "    h, w, _ = first_image.shape\n",
    "\n",
    "    codec = cv2.VideoWriter_fourcc(*'mp4v')\n",
    "    vid_writer = cv2.VideoWriter(video_filename, codec, 30, (w, h))\n",
    "\n",
    "    for img in valid_images:\n",
    "        loaded_img = cv2.imread(os.path.join(folder, img))\n",
    "        for _ in range(20):\n",
    "            vid_writer.write(loaded_img)\n",
    "\n",
    "    vid_writer.release()\n",
    "create_video_from_images(video_dir)"
   ]
  },
  {
   "cell_type": "code",
   "execution_count": null,
   "id": "db37bac4",
   "metadata": {},
   "outputs": [],
   "source": []
  }
 ],
 "metadata": {
  "kernelspec": {
   "display_name": "Python 3 (ipykernel)",
   "language": "python",
   "name": "python3"
  },
  "language_info": {
   "codemirror_mode": {
    "name": "ipython",
    "version": 3
   },
   "file_extension": ".py",
   "mimetype": "text/x-python",
   "name": "python",
   "nbconvert_exporter": "python",
   "pygments_lexer": "ipython3",
   "version": "3.10.9"
  }
 },
 "nbformat": 4,
 "nbformat_minor": 5
}
